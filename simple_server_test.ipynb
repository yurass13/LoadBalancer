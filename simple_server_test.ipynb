{
 "cells": [
  {
   "cell_type": "code",
   "execution_count": 1,
   "metadata": {},
   "outputs": [],
   "source": [
    "from simple_server import SimpleServer"
   ]
  },
  {
   "cell_type": "code",
   "execution_count": 2,
   "metadata": {},
   "outputs": [],
   "source": [
    "# Start server\n",
    "srv = SimpleServer()"
   ]
  },
  {
   "cell_type": "code",
   "execution_count": 3,
   "metadata": {},
   "outputs": [
    {
     "name": "stdout",
     "output_type": "stream",
     "text": [
      "Waiting for new connection...\n",
      "[127.0.0.1] connected!\n",
      "\n",
      "Processing ...\n",
      "Complete!\n",
      "\n",
      "[127.0.0.1] disconnected!\n"
     ]
    }
   ],
   "source": [
    "srv.wait_client()\n",
    "print('Processing ...')\n",
    "\n",
    "# Обмениваемся бредом\n",
    "data = srv.data_provider\n",
    "for num in range(int(data)):\n",
    "    srv.data_provider = str(num)\n",
    "print('Complete!')\n",
    "print(srv.data_provider)\n",
    "del srv.data_provider"
   ]
  },
  {
   "cell_type": "code",
   "execution_count": null,
   "metadata": {},
   "outputs": [],
   "source": []
  }
 ],
 "metadata": {
  "kernelspec": {
   "display_name": "Python 3.10.5 64-bit",
   "language": "python",
   "name": "python3"
  },
  "language_info": {
   "codemirror_mode": {
    "name": "ipython",
    "version": 3
   },
   "file_extension": ".py",
   "mimetype": "text/x-python",
   "name": "python",
   "nbconvert_exporter": "python",
   "pygments_lexer": "ipython3",
   "version": "3.10.5"
  },
  "orig_nbformat": 4,
  "vscode": {
   "interpreter": {
    "hash": "f5634eca0c0168eab924e8a2d5436b8fd48fd57f7bc57f560aaedd919da73f62"
   }
  }
 },
 "nbformat": 4,
 "nbformat_minor": 2
}
